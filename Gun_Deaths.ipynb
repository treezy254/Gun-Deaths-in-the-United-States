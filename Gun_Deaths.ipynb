{
  "nbformat": 4,
  "nbformat_minor": 0,
  "metadata": {
    "colab": {
      "provenance": [],
      "authorship_tag": "ABX9TyOkH10ITfvIyyAXyVr+Hc7A",
      "include_colab_link": true
    },
    "kernelspec": {
      "name": "python3",
      "display_name": "Python 3"
    },
    "language_info": {
      "name": "python"
    }
  },
  "cells": [
    {
      "cell_type": "markdown",
      "metadata": {
        "id": "view-in-github",
        "colab_type": "text"
      },
      "source": [
        "<a href=\"https://colab.research.google.com/github/treezy254/Gun-Deaths-in-the-United-States/blob/master/Gun_Deaths.ipynb\" target=\"_parent\"><img src=\"https://colab.research.google.com/assets/colab-badge.svg\" alt=\"Open In Colab\"/></a>"
      ]
    },
    {
      "cell_type": "code",
      "execution_count": null,
      "metadata": {
        "id": "1iIMfm5AEh-Q"
      },
      "outputs": [],
      "source": [
        "'''\n",
        "This case study will try to answer the following questions:\n",
        "• What is the number of annual suicide gun deaths in the \n",
        "United States from 2012 to 2014, by gender?\n",
        "\n",
        "• What is the number of gun deaths by race in the United \n",
        "States per 100,000 people from 2012 to 2014?\n",
        "• What is the annual number of gun deaths in the United \n",
        "States on average from 2012 to 2014, by cause?\n",
        "• What is the percentage per 100,000 people of annual \n",
        "gun deaths in the United States from 2012 to 2014, by \n",
        "cause?\n",
        "• What is the percentage of annual suicide gun deaths in \n",
        "the United States from 2012 to 2014, by year?\n",
        "'''"
      ]
    },
    {
      "cell_type": "code",
      "source": [],
      "metadata": {
        "id": "HVHCrm8MJnpO"
      },
      "execution_count": null,
      "outputs": []
    }
  ]
}